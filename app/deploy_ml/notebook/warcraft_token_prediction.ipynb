{
 "cells": [
  {
   "cell_type": "code",
   "execution_count": 72,
   "metadata": {},
   "outputs": [],
   "source": [
    "# from sklearn\n",
    "import pandas as pd\n",
    "import seaborn as sns; sns.set()\n",
    "import pickle\n",
    "import matplotlib as plt\n",
    "%matplotlib inline"
   ]
  },
  {
   "cell_type": "code",
   "execution_count": 73,
   "metadata": {},
   "outputs": [],
   "source": [
    "token_data=pd.read_csv(\"../data/wowcointotal.csv\")"
   ]
  },
  {
   "cell_type": "code",
   "execution_count": 74,
   "metadata": {},
   "outputs": [
    {
     "data": {
      "text/html": [
       "<div>\n",
       "<style scoped>\n",
       "    .dataframe tbody tr th:only-of-type {\n",
       "        vertical-align: middle;\n",
       "    }\n",
       "\n",
       "    .dataframe tbody tr th {\n",
       "        vertical-align: top;\n",
       "    }\n",
       "\n",
       "    .dataframe thead th {\n",
       "        text-align: right;\n",
       "    }\n",
       "</style>\n",
       "<table border=\"1\" class=\"dataframe\">\n",
       "  <thead>\n",
       "    <tr style=\"text-align: right;\">\n",
       "      <th></th>\n",
       "      <th>Region</th>\n",
       "      <th>Date</th>\n",
       "      <th>Price</th>\n",
       "      <th>Time left on Auction</th>\n",
       "    </tr>\n",
       "  </thead>\n",
       "  <tbody>\n",
       "    <tr>\n",
       "      <th>0</th>\n",
       "      <td>US</td>\n",
       "      <td>4/7/2015 17:12</td>\n",
       "      <td>30000</td>\n",
       "      <td>Short</td>\n",
       "    </tr>\n",
       "    <tr>\n",
       "      <th>1</th>\n",
       "      <td>US</td>\n",
       "      <td>4/7/2015 17:42</td>\n",
       "      <td>30000</td>\n",
       "      <td>Short</td>\n",
       "    </tr>\n",
       "    <tr>\n",
       "      <th>2</th>\n",
       "      <td>US</td>\n",
       "      <td>4/7/2015 18:13</td>\n",
       "      <td>30300</td>\n",
       "      <td>Short</td>\n",
       "    </tr>\n",
       "    <tr>\n",
       "      <th>3</th>\n",
       "      <td>US</td>\n",
       "      <td>4/7/2015 18:42</td>\n",
       "      <td>30300</td>\n",
       "      <td>Short</td>\n",
       "    </tr>\n",
       "    <tr>\n",
       "      <th>4</th>\n",
       "      <td>US</td>\n",
       "      <td>4/7/2015 19:04</td>\n",
       "      <td>30603</td>\n",
       "      <td>Short</td>\n",
       "    </tr>\n",
       "  </tbody>\n",
       "</table>\n",
       "</div>"
      ],
      "text/plain": [
       "  Region            Date  Price Time left on Auction\n",
       "0     US  4/7/2015 17:12  30000                Short\n",
       "1     US  4/7/2015 17:42  30000                Short\n",
       "2     US  4/7/2015 18:13  30300                Short\n",
       "3     US  4/7/2015 18:42  30300                Short\n",
       "4     US  4/7/2015 19:04  30603                Short"
      ]
     },
     "execution_count": 74,
     "metadata": {},
     "output_type": "execute_result"
    }
   ],
   "source": [
    "token_data.head()"
   ]
  },
  {
   "cell_type": "code",
   "execution_count": 75,
   "metadata": {},
   "outputs": [
    {
     "data": {
      "text/plain": [
       "(115274, 4)"
      ]
     },
     "execution_count": 75,
     "metadata": {},
     "output_type": "execute_result"
    }
   ],
   "source": [
    "token_data.shape"
   ]
  },
  {
   "cell_type": "code",
   "execution_count": 76,
   "metadata": {},
   "outputs": [
    {
     "data": {
      "text/html": [
       "<div>\n",
       "<style scoped>\n",
       "    .dataframe tbody tr th:only-of-type {\n",
       "        vertical-align: middle;\n",
       "    }\n",
       "\n",
       "    .dataframe tbody tr th {\n",
       "        vertical-align: top;\n",
       "    }\n",
       "\n",
       "    .dataframe thead th {\n",
       "        text-align: right;\n",
       "    }\n",
       "</style>\n",
       "<table border=\"1\" class=\"dataframe\">\n",
       "  <thead>\n",
       "    <tr style=\"text-align: right;\">\n",
       "      <th></th>\n",
       "      <th>region</th>\n",
       "      <th>price</th>\n",
       "      <th>time_left_on_auction</th>\n",
       "      <th>date_time</th>\n",
       "    </tr>\n",
       "  </thead>\n",
       "  <tbody>\n",
       "    <tr>\n",
       "      <th>0</th>\n",
       "      <td>US</td>\n",
       "      <td>30000</td>\n",
       "      <td>Short</td>\n",
       "      <td>2015-04-07</td>\n",
       "    </tr>\n",
       "    <tr>\n",
       "      <th>1</th>\n",
       "      <td>US</td>\n",
       "      <td>30000</td>\n",
       "      <td>Short</td>\n",
       "      <td>2015-04-07</td>\n",
       "    </tr>\n",
       "    <tr>\n",
       "      <th>2</th>\n",
       "      <td>US</td>\n",
       "      <td>30300</td>\n",
       "      <td>Short</td>\n",
       "      <td>2015-04-07</td>\n",
       "    </tr>\n",
       "    <tr>\n",
       "      <th>3</th>\n",
       "      <td>US</td>\n",
       "      <td>30300</td>\n",
       "      <td>Short</td>\n",
       "      <td>2015-04-07</td>\n",
       "    </tr>\n",
       "    <tr>\n",
       "      <th>4</th>\n",
       "      <td>US</td>\n",
       "      <td>30603</td>\n",
       "      <td>Short</td>\n",
       "      <td>2015-04-07</td>\n",
       "    </tr>\n",
       "  </tbody>\n",
       "</table>\n",
       "</div>"
      ],
      "text/plain": [
       "  region  price time_left_on_auction   date_time\n",
       "0     US  30000                Short  2015-04-07\n",
       "1     US  30000                Short  2015-04-07\n",
       "2     US  30300                Short  2015-04-07\n",
       "3     US  30300                Short  2015-04-07\n",
       "4     US  30603                Short  2015-04-07"
      ]
     },
     "execution_count": 76,
     "metadata": {},
     "output_type": "execute_result"
    }
   ],
   "source": [
    "token_data.rename(columns=lambda x: x.replace(\" \",\"_\"), inplace=True)\n",
    "token_data.rename(columns=lambda x: x.lower(), inplace=True)\n",
    "\n",
    "## Previous trial\n",
    "# splitted_date= [str(token_data[\"Date\"][i]).split(\" \") for i in range(len(token_data[\"Date\"]))]\n",
    "# days=[splitted_date[i][0] for i in range(len(splitted_date))]\n",
    "# hour=[splitted_date[i][1] for i in range(len(splitted_date))]\n",
    "# hour=[hour[i][:-2]+ \"00\" for i in range(len(hour))]\n",
    "# token_data[\"day\"] = days\n",
    "# token_data[\"hour\"] = hour\n",
    "\n",
    "# This one line does what I've tried to achieve above\n",
    "token_data['date_time'] =  pd.to_datetime(token_data['date'])\n",
    "token_data['date_time'] =  token_data[\"date_time\"].dt.strftime('%Y-%m-%d')\n",
    "\n",
    "token_data.drop(\"date\",axis=1,errors=\"ignore\",inplace=True)\n",
    "\n",
    "token_data.head()"
   ]
  },
  {
   "cell_type": "code",
   "execution_count": 77,
   "metadata": {},
   "outputs": [
    {
     "data": {
      "text/plain": [
       "region                  object\n",
       "price                    int64\n",
       "time_left_on_auction    object\n",
       "date_time               object\n",
       "dtype: object"
      ]
     },
     "execution_count": 77,
     "metadata": {},
     "output_type": "execute_result"
    }
   ],
   "source": [
    "token_data.dtypes"
   ]
  },
  {
   "cell_type": "code",
   "execution_count": 78,
   "metadata": {},
   "outputs": [
    {
     "data": {
      "text/plain": [
       "region                  object\n",
       "price                    int64\n",
       "time_left_on_auction    object\n",
       "date_time               object\n",
       "dtype: object"
      ]
     },
     "execution_count": 78,
     "metadata": {},
     "output_type": "execute_result"
    }
   ],
   "source": [
    "token_data.dtypes"
   ]
  },
  {
   "cell_type": "code",
   "execution_count": 79,
   "metadata": {},
   "outputs": [
    {
     "name": "stdout",
     "output_type": "stream",
     "text": [
      "US    115274\n",
      "Name: region, dtype: int64\n",
      "\n",
      "\n",
      "Long         109679\n",
      "Short           495\n",
      "Medium          327\n",
      "Very Long       226\n",
      "Name: time_left_on_auction, dtype: int64\n"
     ]
    }
   ],
   "source": [
    "print(token_data.region.value_counts())\n",
    "print(\"\\n\")\n",
    "print(token_data.time_left_on_auction.value_counts())"
   ]
  },
  {
   "cell_type": "code",
   "execution_count": 80,
   "metadata": {},
   "outputs": [],
   "source": [
    "sub_US = token_data[token_data[\"region\"]==\"US\"]"
   ]
  },
  {
   "cell_type": "code",
   "execution_count": 81,
   "metadata": {},
   "outputs": [
    {
     "data": {
      "text/plain": [
       "(115274, 4)"
      ]
     },
     "execution_count": 81,
     "metadata": {},
     "output_type": "execute_result"
    }
   ],
   "source": [
    "sub_US.shape"
   ]
  },
  {
   "cell_type": "code",
   "execution_count": 82,
   "metadata": {},
   "outputs": [],
   "source": [
    "sub_US.drop(labels=\"region\",axis=1,inplace=True)"
   ]
  },
  {
   "cell_type": "code",
   "execution_count": 83,
   "metadata": {},
   "outputs": [
    {
     "data": {
      "text/html": [
       "<div>\n",
       "<style scoped>\n",
       "    .dataframe tbody tr th:only-of-type {\n",
       "        vertical-align: middle;\n",
       "    }\n",
       "\n",
       "    .dataframe tbody tr th {\n",
       "        vertical-align: top;\n",
       "    }\n",
       "\n",
       "    .dataframe thead th {\n",
       "        text-align: right;\n",
       "    }\n",
       "</style>\n",
       "<table border=\"1\" class=\"dataframe\">\n",
       "  <thead>\n",
       "    <tr style=\"text-align: right;\">\n",
       "      <th></th>\n",
       "      <th>price</th>\n",
       "      <th>time_left_on_auction</th>\n",
       "      <th>date_time</th>\n",
       "    </tr>\n",
       "  </thead>\n",
       "  <tbody>\n",
       "    <tr>\n",
       "      <th>0</th>\n",
       "      <td>30000</td>\n",
       "      <td>Short</td>\n",
       "      <td>2015-04-07</td>\n",
       "    </tr>\n",
       "    <tr>\n",
       "      <th>1</th>\n",
       "      <td>30000</td>\n",
       "      <td>Short</td>\n",
       "      <td>2015-04-07</td>\n",
       "    </tr>\n",
       "    <tr>\n",
       "      <th>2</th>\n",
       "      <td>30300</td>\n",
       "      <td>Short</td>\n",
       "      <td>2015-04-07</td>\n",
       "    </tr>\n",
       "    <tr>\n",
       "      <th>3</th>\n",
       "      <td>30300</td>\n",
       "      <td>Short</td>\n",
       "      <td>2015-04-07</td>\n",
       "    </tr>\n",
       "    <tr>\n",
       "      <th>4</th>\n",
       "      <td>30603</td>\n",
       "      <td>Short</td>\n",
       "      <td>2015-04-07</td>\n",
       "    </tr>\n",
       "  </tbody>\n",
       "</table>\n",
       "</div>"
      ],
      "text/plain": [
       "   price time_left_on_auction   date_time\n",
       "0  30000                Short  2015-04-07\n",
       "1  30000                Short  2015-04-07\n",
       "2  30300                Short  2015-04-07\n",
       "3  30300                Short  2015-04-07\n",
       "4  30603                Short  2015-04-07"
      ]
     },
     "execution_count": 83,
     "metadata": {},
     "output_type": "execute_result"
    }
   ],
   "source": [
    "sub_US.head()"
   ]
  },
  {
   "cell_type": "code",
   "execution_count": 84,
   "metadata": {},
   "outputs": [],
   "source": [
    "sub_US_long = sub_US[sub_US[\"time_left_on_auction\"]==\"Long\"]\n",
    "sub_US_short = sub_US[sub_US[\"time_left_on_auction\"]==\"Short\"]\n",
    "sub_US_meedium = sub_US[sub_US[\"time_left_on_auction\"]==\"Medium\"]\n",
    "sub_US_very_long = sub_US[sub_US[\"time_left_on_auction\"]==\"Very Long\"]"
   ]
  },
  {
   "cell_type": "code",
   "execution_count": 85,
   "metadata": {},
   "outputs": [
    {
     "data": {
      "text/plain": [
       "(109679, 3)"
      ]
     },
     "execution_count": 85,
     "metadata": {},
     "output_type": "execute_result"
    }
   ],
   "source": [
    "sub_US_long.shape"
   ]
  },
  {
   "cell_type": "code",
   "execution_count": 90,
   "metadata": {},
   "outputs": [
    {
     "data": {
      "text/html": [
       "<div>\n",
       "<style scoped>\n",
       "    .dataframe tbody tr th:only-of-type {\n",
       "        vertical-align: middle;\n",
       "    }\n",
       "\n",
       "    .dataframe tbody tr th {\n",
       "        vertical-align: top;\n",
       "    }\n",
       "\n",
       "    .dataframe thead th {\n",
       "        text-align: right;\n",
       "    }\n",
       "</style>\n",
       "<table border=\"1\" class=\"dataframe\">\n",
       "  <thead>\n",
       "    <tr style=\"text-align: right;\">\n",
       "      <th></th>\n",
       "      <th>price</th>\n",
       "      <th>date_time</th>\n",
       "    </tr>\n",
       "  </thead>\n",
       "  <tbody>\n",
       "    <tr>\n",
       "      <th>71</th>\n",
       "      <td>21959</td>\n",
       "      <td>2015-04-08</td>\n",
       "    </tr>\n",
       "    <tr>\n",
       "      <th>72</th>\n",
       "      <td>21959</td>\n",
       "      <td>2015-04-08</td>\n",
       "    </tr>\n",
       "    <tr>\n",
       "      <th>73</th>\n",
       "      <td>21959</td>\n",
       "      <td>2015-04-08</td>\n",
       "    </tr>\n",
       "    <tr>\n",
       "      <th>74</th>\n",
       "      <td>21739</td>\n",
       "      <td>2015-04-08</td>\n",
       "    </tr>\n",
       "    <tr>\n",
       "      <th>75</th>\n",
       "      <td>21739</td>\n",
       "      <td>2015-04-08</td>\n",
       "    </tr>\n",
       "  </tbody>\n",
       "</table>\n",
       "</div>"
      ],
      "text/plain": [
       "    price   date_time\n",
       "71  21959  2015-04-08\n",
       "72  21959  2015-04-08\n",
       "73  21959  2015-04-08\n",
       "74  21739  2015-04-08\n",
       "75  21739  2015-04-08"
      ]
     },
     "execution_count": 90,
     "metadata": {},
     "output_type": "execute_result"
    }
   ],
   "source": [
    "sub_US_long_model = sub_US_long.copy()\n",
    "sub_US_long_model.drop(\"time_left_on_auction\",axis=1,inplace=True,errors=\"ignore\")\n",
    "sub_US_long_model.head()"
   ]
  },
  {
   "cell_type": "code",
   "execution_count": 98,
   "metadata": {},
   "outputs": [
    {
     "data": {
      "text/html": [
       "<div>\n",
       "<style scoped>\n",
       "    .dataframe tbody tr th:only-of-type {\n",
       "        vertical-align: middle;\n",
       "    }\n",
       "\n",
       "    .dataframe tbody tr th {\n",
       "        vertical-align: top;\n",
       "    }\n",
       "\n",
       "    .dataframe thead th {\n",
       "        text-align: right;\n",
       "    }\n",
       "</style>\n",
       "<table border=\"1\" class=\"dataframe\">\n",
       "  <thead>\n",
       "    <tr style=\"text-align: right;\">\n",
       "      <th></th>\n",
       "      <th>price</th>\n",
       "    </tr>\n",
       "    <tr>\n",
       "      <th>date_time</th>\n",
       "      <th></th>\n",
       "    </tr>\n",
       "  </thead>\n",
       "  <tbody>\n",
       "    <tr>\n",
       "      <th>2015-04-08</th>\n",
       "      <td>21468.000000</td>\n",
       "    </tr>\n",
       "    <tr>\n",
       "      <th>2015-04-09</th>\n",
       "      <td>20675.000000</td>\n",
       "    </tr>\n",
       "    <tr>\n",
       "      <th>2015-04-10</th>\n",
       "      <td>25383.244444</td>\n",
       "    </tr>\n",
       "    <tr>\n",
       "      <th>2015-04-11</th>\n",
       "      <td>22754.000000</td>\n",
       "    </tr>\n",
       "    <tr>\n",
       "      <th>2015-04-12</th>\n",
       "      <td>21985.716981</td>\n",
       "    </tr>\n",
       "  </tbody>\n",
       "</table>\n",
       "</div>"
      ],
      "text/plain": [
       "                   price\n",
       "date_time               \n",
       "2015-04-08  21468.000000\n",
       "2015-04-09  20675.000000\n",
       "2015-04-10  25383.244444\n",
       "2015-04-11  22754.000000\n",
       "2015-04-12  21985.716981"
      ]
     },
     "execution_count": 98,
     "metadata": {},
     "output_type": "execute_result"
    }
   ],
   "source": [
    "sub_US_long_model = sub_US_long_model.groupby(\"date_time\").mean()\n",
    "sub_US_long_model.head()"
   ]
  },
  {
   "cell_type": "code",
   "execution_count": 99,
   "metadata": {},
   "outputs": [],
   "source": [
    "sns.set(rc={'figure.figsize':(14,8)})"
   ]
  },
  {
   "cell_type": "code",
   "execution_count": 100,
   "metadata": {},
   "outputs": [
    {
     "data": {
      "text/plain": [
       "<matplotlib.axes._subplots.AxesSubplot at 0x7fe07e742550>"
      ]
     },
     "execution_count": 100,
     "metadata": {},
     "output_type": "execute_result"
    },
    {
     "data": {
      "image/png": "[encoded data removed]",
      "text/plain": [
       "<Figure size 1008x576 with 1 Axes>"
      ]
     },
     "metadata": {},
     "output_type": "display_data"
    }
   ],
   "source": [
    "sub_US_long.plot(x=\"date_time\",y=\"price\")"
   ]
  },
  {
   "cell_type": "code",
   "execution_count": 102,
   "metadata": {},
   "outputs": [
    {
     "data": {
      "text/plain": [
       "<matplotlib.axes._subplots.AxesSubplot at 0x7fe07e5c5390>"
      ]
     },
     "execution_count": 102,
     "metadata": {},
     "output_type": "execute_result"
    },
    {
     "data": {
      "image/png": "[encoded data removed]",
      "text/plain": [
       "<Figure size 1008x576 with 1 Axes>"
      ]
     },
     "metadata": {},
     "output_type": "display_data"
    }
   ],
   "source": [
    "sub_US_long_model.plot(y=\"price\")"
   ]
  },
  {
   "cell_type": "code",
   "execution_count": 46,
   "metadata": {},
   "outputs": [
    {
     "data": {
      "text/plain": [
       "<matplotlib.axes._subplots.AxesSubplot at 0x7fe06fab8490>"
      ]
     },
     "execution_count": 46,
     "metadata": {},
     "output_type": "execute_result"
    },
    {
     "data": {
      "image/png": "[encoded data removed]",
      "text/plain": [
       "<Figure size 1008x576 with 1 Axes>"
      ]
     },
     "metadata": {},
     "output_type": "display_data"
    }
   ],
   "source": [
    "sns.lineplot(x=\"date_time\", y=\"price\", hue=\"time_left_on_auction\", data=sub_US)"
   ]
  },
  {
   "cell_type": "code",
   "execution_count": 103,
   "metadata": {},
   "outputs": [
    {
     "data": {
      "text/plain": [
       "price    float64\n",
       "dtype: object"
      ]
     },
     "execution_count": 103,
     "metadata": {},
     "output_type": "execute_result"
    }
   ],
   "source": [
    "sub_US_long_model.dtypes"
   ]
  },
  {
   "cell_type": "code",
   "execution_count": 104,
   "metadata": {},
   "outputs": [],
   "source": [
    "from statsmodels.tsa.arima_model import ARIMA"
   ]
  },
  {
   "cell_type": "code",
   "execution_count": 105,
   "metadata": {},
   "outputs": [
    {
     "name": "stderr",
     "output_type": "stream",
     "text": [
      "/home/vajk/projects/deploy_ml_tst/env/lib/python3.7/site-packages/statsmodels/tsa/base/tsa_model.py:218: ValueWarning: A date index has been provided, but it has no associated frequency information and so will be ignored when e.g. forecasting.\n",
      "  ' ignored when e.g. forecasting.', ValueWarning)\n",
      "/home/vajk/projects/deploy_ml_tst/env/lib/python3.7/site-packages/statsmodels/tsa/base/tsa_model.py:218: ValueWarning: A date index has been provided, but it has no associated frequency information and so will be ignored when e.g. forecasting.\n",
      "  ' ignored when e.g. forecasting.', ValueWarning)\n"
     ]
    },
    {
     "name": "stdout",
     "output_type": "stream",
     "text": [
      "                             ARIMA Model Results                              \n",
      "==============================================================================\n",
      "Dep. Variable:                D.price   No. Observations:                  830\n",
      "Model:                 ARIMA(5, 1, 0)   Log Likelihood               -7455.047\n",
      "Method:                       css-mle   S.D. of innovations           1925.449\n",
      "Date:                Sun, 01 Mar 2020   AIC                          14924.093\n",
      "Time:                        14:43:15   BIC                          14957.143\n",
      "Sample:                             1   HQIC                         14936.768\n",
      "                                                                              \n",
      "=================================================================================\n",
      "                    coef    std err          z      P>|z|      [0.025      0.975]\n",
      "---------------------------------------------------------------------------------\n",
      "const           131.5603     38.563      3.412      0.001      55.978     207.142\n",
      "ar.L1.D.price    -0.3949      0.035    -11.394      0.000      -0.463      -0.327\n",
      "ar.L2.D.price    -0.0799      0.037     -2.144      0.032      -0.153      -0.007\n",
      "ar.L3.D.price    -0.1330      0.037     -3.589      0.000      -0.206      -0.060\n",
      "ar.L4.D.price    -0.0652      0.037     -1.745      0.081      -0.138       0.008\n",
      "ar.L5.D.price    -0.0620      0.035     -1.784      0.074      -0.130       0.006\n",
      "                                    Roots                                    \n",
      "=============================================================================\n",
      "                  Real          Imaginary           Modulus         Frequency\n",
      "-----------------------------------------------------------------------------\n",
      "AR.1            1.0913           -1.3187j            1.7117           -0.1400\n",
      "AR.2            1.0913           +1.3187j            1.7117            0.1400\n",
      "AR.3           -1.4985           -0.0000j            1.4985           -0.5000\n",
      "AR.4           -0.8673           -1.7085j            1.9161           -0.3248\n",
      "AR.5           -0.8673           +1.7085j            1.9161            0.3248\n",
      "-----------------------------------------------------------------------------\n"
     ]
    }
   ],
   "source": [
    "model = ARIMA(sub_US_long_model,order=(5,1,0))\n",
    "model_fit= model.fit(disp=0)\n",
    "print(model_fit.summary())"
   ]
  },
  {
   "cell_type": "code",
   "execution_count": 112,
   "metadata": {},
   "outputs": [],
   "source": [
    "from sklearn.metrics import mean_squared_error\n",
    "from matplotlib import pyplot"
   ]
  },
  {
   "cell_type": "code",
   "execution_count": 170,
   "metadata": {},
   "outputs": [
    {
     "name": "stdout",
     "output_type": "stream",
     "text": [
      "predicted=36111.172182, expected=36011.548611\n",
      "predicted=36194.510535, expected=36449.986111\n",
      "predicted=36295.018407, expected=36957.842857\n",
      "predicted=36587.703705, expected=37572.251908\n",
      "predicted=36971.114970, expected=36780.513889\n",
      "predicted=36868.757073, expected=36860.083333\n",
      "predicted=36694.384450, expected=36542.263889\n",
      "predicted=36732.595783, expected=36155.444444\n",
      "predicted=36715.513035, expected=36701.659722\n",
      "predicted=36800.015508, expected=37889.590278\n",
      "predicted=37214.333932, expected=37939.765957\n",
      "predicted=37599.053557, expected=37810.645833\n",
      "predicted=37466.979190, expected=38359.333333\n",
      "predicted=37577.703382, expected=37755.972222\n",
      "predicted=37807.721501, expected=38380.377622\n",
      "predicted=38122.973471, expected=38830.465278\n",
      "predicted=38432.935107, expected=40377.854167\n",
      "predicted=39194.432904, expected=40341.102564\n",
      "predicted=39700.202129, expected=40886.500000\n",
      "predicted=39871.810268, expected=40942.205674\n",
      "predicted=40215.468698, expected=40572.902778\n",
      "predicted=40408.106577, expected=40326.594406\n",
      "predicted=40506.674766, expected=40709.624113\n",
      "predicted=40617.409635, expected=42259.840278\n",
      "predicted=41422.516197, expected=41721.464286\n",
      "predicted=41692.012998, expected=42315.847222\n",
      "predicted=41661.330331, expected=42909.050360\n",
      "predicted=42005.036779, expected=42318.610169\n",
      "predicted=42282.243907, expected=42555.083333\n",
      "predicted=42433.719928, expected=43436.888889\n",
      "predicted=42758.246523, expected=45968.687500\n",
      "predicted=44199.009095, expected=46748.608696\n",
      "predicted=45385.402970, expected=47034.930556\n",
      "predicted=45714.211066, expected=46932.166667\n",
      "predicted=45874.160743, expected=45859.818182\n",
      "predicted=45854.142695, expected=45491.555556\n",
      "predicted=45920.967647, expected=46483.861111\n",
      "predicted=46368.297059, expected=47079.435115\n",
      "predicted=46997.157727, expected=48722.576923\n",
      "predicted=47730.903098, expected=49516.451389\n",
      "predicted=48306.461216, expected=51410.666667\n",
      "predicted=49437.346931, expected=55401.363636\n",
      "predicted=52206.622219, expected=56344.535211\n",
      "predicted=54499.780385, expected=54578.944444\n",
      "predicted=54147.685622, expected=55661.527778\n",
      "predicted=54237.294418, expected=55628.070922\n",
      "predicted=55158.908372, expected=54663.680556\n",
      "predicted=55355.676911, expected=54376.208333\n",
      "predicted=54822.792000, expected=55155.833333\n",
      "predicted=54949.238597, expected=53847.384615\n",
      "predicted=54744.179258, expected=54101.152778\n",
      "predicted=54382.775648, expected=56606.583333\n",
      "predicted=55492.764745, expected=58448.000000\n",
      "predicted=57347.278193, expected=56109.080000\n",
      "predicted=56797.139444, expected=55113.021277\n",
      "predicted=55304.048451, expected=54742.755725\n",
      "predicted=54915.522331, expected=55004.381944\n",
      "predicted=55480.646858, expected=55981.727273\n",
      "predicted=56164.729177, expected=56662.475177\n",
      "predicted=56436.377853, expected=57340.546099\n",
      "predicted=56826.973116, expected=57289.534722\n",
      "predicted=56951.206366, expected=57070.965278\n",
      "predicted=56914.928480, expected=56764.263158\n",
      "predicted=56852.186391, expected=56411.652778\n",
      "predicted=56723.571676, expected=58015.763889\n",
      "predicted=57523.511887, expected=58272.085714\n",
      "predicted=58137.310157, expected=58333.539007\n",
      "predicted=58219.763551, expected=58480.312500\n",
      "predicted=58184.857691, expected=57948.874126\n",
      "predicted=58023.867982, expected=57134.847222\n",
      "predicted=57688.412089, expected=57984.944056\n",
      "predicted=57899.843474, expected=58730.559441\n",
      "predicted=58576.336051, expected=58940.638298\n",
      "predicted=58930.869094, expected=58578.161972\n",
      "predicted=58644.451033, expected=58272.555556\n",
      "predicted=58300.214428, expected=57914.388889\n",
      "predicted=58192.039912, expected=57142.733333\n",
      "predicted=57822.546376, expected=58100.166667\n",
      "predicted=58085.755247, expected=58515.390071\n",
      "predicted=58525.302265, expected=58469.423611\n",
      "predicted=58592.456503, expected=58364.402778\n",
      "predicted=58378.302938, expected=57508.983051\n",
      "predicted=57857.190582, expected=57409.569444\n",
      "predicted=57715.720255, expected=57800.444444\n",
      "predicted=57941.122887, expected=58441.375000\n",
      "predicted=58405.686093, expected=59114.368794\n",
      "predicted=58867.569329, expected=59494.979167\n",
      "predicted=59122.468580, expected=59333.472222\n",
      "predicted=59148.681909, expected=59284.763889\n",
      "predicted=59156.078802, expected=59199.250000\n",
      "predicted=59228.047271, expected=59604.847222\n",
      "predicted=59543.685882, expected=60728.118056\n",
      "predicted=60286.372040, expected=62860.759124\n",
      "predicted=61711.268924, expected=61436.170213\n",
      "predicted=61588.716127, expected=60909.361111\n",
      "predicted=60856.684878, expected=60185.774436\n",
      "predicted=60388.339066, expected=59659.402778\n",
      "predicted=60293.093603, expected=59683.291667\n",
      "predicted=60368.640000, expected=60149.447552\n",
      "predicted=60393.817492, expected=60927.788321\n",
      "predicted=60825.356454, expected=61224.971831\n",
      "predicted=61060.914351, expected=60559.021583\n",
      "predicted=60703.109038, expected=59870.305556\n",
      "predicted=60150.967258, expected=59475.625000\n",
      "predicted=59862.268882, expected=59476.694444\n",
      "predicted=59918.186620, expected=60167.402778\n",
      "predicted=60301.735517, expected=59917.224638\n",
      "predicted=60237.275380, expected=59954.038961\n",
      "predicted=60040.854077, expected=60063.600000\n",
      "predicted=60021.304618, expected=59431.166667\n",
      "predicted=59792.257050, expected=59220.111111\n",
      "predicted=59573.273880, expected=59199.951389\n",
      "predicted=59463.310718, expected=60665.472222\n",
      "predicted=60265.364376, expected=59634.900763\n",
      "predicted=60140.020966, expected=59371.722222\n",
      "predicted=59574.330529, expected=59468.188811\n",
      "predicted=59457.300853, expected=58984.000000\n",
      "predicted=59395.517053, expected=58865.000000\n",
      "predicted=59334.128031, expected=58799.472222\n",
      "predicted=59085.377304, expected=60499.076923\n",
      "predicted=59941.649259, expected=95962.198529\n",
      "predicted=82004.490076, expected=73694.611111\n",
      "predicted=77395.067748, expected=86459.090278\n",
      "predicted=75284.117441, expected=84408.166667\n",
      "predicted=77790.352348, expected=92414.277778\n",
      "predicted=85848.086820, expected=89468.263889\n",
      "predicted=90901.514384, expected=90625.750000\n",
      "predicted=90666.422318, expected=87784.978417\n",
      "predicted=89830.300650, expected=88006.857143\n",
      "predicted=88160.213165, expected=88521.082707\n",
      "predicted=88423.346505, expected=88538.930556\n",
      "predicted=88521.920457, expected=88143.930070\n",
      "predicted=88443.741166, expected=88731.222222\n",
      "predicted=88625.726859, expected=89525.541667\n",
      "predicted=89250.690155, expected=89753.812030\n",
      "predicted=89720.329088, expected=89669.072993\n",
      "predicted=89868.387311, expected=89628.006944\n",
      "predicted=89856.767902, expected=89322.659722\n",
      "predicted=89662.266181, expected=89076.555556\n",
      "predicted=89367.390449, expected=89308.013889\n",
      "predicted=89347.335976, expected=89847.583333\n",
      "predicted=89691.261217, expected=90370.847826\n",
      "predicted=90202.082926, expected=90185.881119\n",
      "predicted=90408.684185, expected=90284.195804\n",
      "predicted=90420.089251, expected=90149.416667\n",
      "predicted=90405.023510, expected=89900.013889\n",
      "predicted=90184.266012, expected=89855.508929\n",
      "predicted=90041.768479, expected=90822.430556\n",
      "predicted=90470.297933, expected=91690.822695\n",
      "predicted=91330.652584, expected=91502.361111\n",
      "predicted=91691.865108, expected=91918.729167\n",
      "predicted=91904.470323, expected=92303.395833\n",
      "predicted=92304.320546, expected=91349.444444\n",
      "predicted=91978.570981, expected=91386.395683\n",
      "predicted=91576.743973, expected=92416.979021\n",
      "predicted=92072.238811, expected=92859.304965\n",
      "predicted=92689.842395, expected=93537.083333\n",
      "predicted=93290.842658, expected=93023.388889\n",
      "predicted=93460.258150, expected=93562.030303\n",
      "predicted=93496.218971, expected=92462.777778\n",
      "predicted=93208.939917, expected=92686.166667\n",
      "predicted=92753.374132, expected=93980.986111\n",
      "predicted=93485.658923, expected=94729.992754\n",
      "predicted=94385.913336, expected=94370.921429\n",
      "predicted=94650.243335, expected=96027.847222\n",
      "predicted=95406.398965, expected=97348.064748\n",
      "predicted=96816.153658, expected=96164.777778\n",
      "predicted=96847.872532, expected=96820.347222\n",
      "predicted=96763.158695, expected=98255.111111\n",
      "predicted=97756.646651, expected=99642.673913\n",
      "predicted=98975.379304, expected=99081.471545\n",
      "predicted=99466.352871, expected=98063.524590\n",
      "predicted=98852.500159, expected=96588.907692\n",
      "predicted=97662.212571, expected=95969.811189\n",
      "predicted=96519.413028, expected=96774.236111\n",
      "predicted=96506.483743, expected=98233.744681\n",
      "predicted=97529.670000, expected=98731.957143\n",
      "predicted=98505.213679, expected=98938.482517\n",
      "predicted=98975.325093, expected=99419.957143\n"
     ]
    },
    {
     "name": "stdout",
     "output_type": "stream",
     "text": [
      "predicted=99399.402162, expected=99240.861111\n",
      "predicted=99513.566006, expected=98750.859155\n",
      "predicted=99179.141984, expected=97741.263889\n",
      "predicted=98466.496720, expected=98426.312500\n",
      "predicted=98289.004716, expected=99292.435714\n",
      "predicted=98972.815039, expected=99757.538462\n",
      "predicted=99577.310554, expected=99255.402778\n",
      "predicted=99652.861004, expected=98359.625000\n",
      "predicted=99039.606771, expected=98040.676056\n",
      "predicted=98445.585123, expected=98249.354545\n",
      "predicted=98317.628007, expected=98984.729167\n",
      "predicted=98720.232421, expected=99162.561151\n",
      "predicted=99167.803198, expected=99221.122302\n",
      "predicted=99332.874884, expected=99191.180556\n",
      "predicted=99395.158087, expected=98977.791667\n",
      "predicted=99263.519578, expected=98572.812500\n",
      "predicted=98952.683325, expected=98774.063380\n",
      "predicted=98852.459201, expected=99670.985714\n",
      "predicted=99363.481615, expected=100282.769784\n",
      "predicted=100066.379692, expected=100370.375000\n",
      "predicted=100443.028021, expected=100468.200000\n",
      "predicted=100603.522061, expected=100389.444444\n",
      "predicted=100621.054070, expected=99798.264286\n",
      "predicted=100271.329790, expected=100101.402778\n",
      "predicted=100141.069938, expected=101118.152778\n",
      "predicted=100758.508465, expected=102598.973333\n",
      "predicted=101931.695258, expected=101273.916667\n",
      "predicted=102023.109533, expected=101247.992908\n",
      "predicted=101497.884574, expected=101065.388889\n",
      "predicted=101424.742929, expected=100714.222222\n",
      "predicted=101024.168942, expected=100735.479167\n",
      "predicted=100888.397351, expected=103998.050725\n",
      "predicted=102506.399386, expected=105001.970370\n",
      "predicted=104495.794315, expected=107781.763889\n",
      "predicted=106447.040434, expected=107804.763889\n",
      "predicted=107969.106386, expected=106804.444444\n",
      "predicted=107472.702052, expected=104936.909722\n",
      "predicted=106165.825855, expected=104730.615942\n",
      "predicted=105103.162463, expected=107835.659722\n",
      "predicted=106496.546616, expected=110652.186567\n",
      "predicted=109267.498599, expected=111290.840278\n",
      "predicted=110934.243590, expected=113698.138889\n",
      "predicted=112679.215001, expected=125838.604317\n",
      "predicted=120464.299394, expected=117330.187500\n",
      "predicted=121390.215270, expected=115122.552448\n",
      "predicted=116606.776841, expected=119422.083333\n",
      "predicted=118326.307195, expected=124714.174603\n",
      "predicted=121609.356897, expected=125457.647482\n",
      "predicted=124442.015956, expected=127349.111111\n",
      "predicted=126732.110543, expected=124144.513889\n",
      "predicted=126072.831529, expected=121899.695652\n",
      "predicted=123306.076883, expected=123826.305556\n",
      "predicted=123493.082840, expected=124177.833333\n",
      "predicted=124057.725915, expected=127726.543478\n",
      "predicted=126071.770910, expected=127974.277778\n",
      "predicted=127901.369016, expected=126916.888112\n",
      "predicted=127438.971764, expected=126320.608392\n",
      "predicted=126974.670357, expected=125655.618056\n",
      "predicted=126266.904948, expected=125681.965278\n",
      "predicted=125913.983076, expected=129002.232394\n",
      "predicted=127699.385518, expected=133064.592593\n",
      "predicted=131213.753153, expected=131438.750000\n",
      "predicted=131962.778146, expected=131162.118056\n",
      "predicted=131452.649239, expected=130345.090909\n",
      "predicted=131117.455131, expected=129422.652778\n",
      "predicted=130056.343792, expected=130094.846154\n",
      "predicted=130121.013834, expected=133788.474820\n",
      "predicted=132340.219428, expected=146914.456000\n",
      "predicted=141233.162048, expected=136557.813433\n",
      "predicted=140318.873430, expected=130479.230769\n",
      "predicted=133154.507286, expected=128050.804878\n",
      "predicted=130988.115451, expected=125563.885714\n",
      "predicted=127647.407215, expected=126163.685315\n",
      "predicted=127210.300999, expected=127935.884058\n",
      "predicted=128002.365172, expected=129065.163462\n",
      "predicted=128823.858835, expected=128276.595745\n",
      "predicted=128631.117045, expected=127083.983333\n",
      "predicted=127643.855755, expected=125327.568966\n",
      "predicted=126334.547828, expected=124038.875000\n",
      "predicted=125039.333715, expected=123256.291667\n",
      "predicted=124170.532445, expected=127423.819444\n",
      "predicted=126270.253602, expected=132246.260870\n",
      "predicted=130434.630271, expected=134599.583333\n",
      "predicted=133161.747822, expected=131686.132353\n",
      "predicted=132134.174009, expected=127562.694915\n",
      "predicted=128813.602430, expected=127481.370629\n",
      "predicted=128027.490659, expected=127324.416667\n",
      "predicted=128227.197680, expected=127494.041667\n",
      "predicted=128122.153783, expected=127086.000000\n",
      "predicted=127729.381909, expected=128146.347222\n",
      "predicted=127977.146080, expected=127451.805556\n",
      "predicted=127920.634504, expected=127972.937500\n",
      "predicted=127920.912939, expected=126360.618056\n",
      "predicted=127229.904964, expected=126919.895833\n",
      "predicted=126957.480407, expected=128721.263889\n",
      "predicted=128414.301868, expected=128423.737226\n",
      "predicted=128620.571233, expected=128202.229167\n",
      "predicted=128357.716547, expected=127449.170213\n",
      "predicted=127879.950485, expected=126527.356643\n",
      "predicted=127113.189581, expected=125786.535714\n",
      "predicted=126502.639697, expected=129965.032258\n",
      "predicted=128784.667842, expected=129350.322581\n",
      "predicted=129690.551138, expected=129576.041667\n",
      "predicted=129298.361556, expected=131625.388489\n",
      "Test MSE: 10561517.201\n"
     ]
    }
   ],
   "source": [
    "X=sub_US_long_model.values\n",
    "size = int(len(X) * 0.66)\n",
    "train, test = X[0:size], X[size:len(X)]\n",
    "history = [x for x in train]\n",
    "\n",
    "predictions = list()\n",
    "for t in range(len(test)):\n",
    "    model = ARIMA(history, order=(5,1,0))\n",
    "    model_fit = model.fit(disp=0)\n",
    "    output = model_fit.forecast()\n",
    "    yhat = output[0]\n",
    "    predictions.append(yhat)\n",
    "    obs = test[t]\n",
    "    history.append(obs)\n",
    "    print('predicted=%f, expected=%f' % (yhat, obs))\n",
    "error = mean_squared_error(test, predictions)\n",
    "print('Test MSE: %.3f' % error)"
   ]
  },
  {
   "cell_type": "code",
   "execution_count": 113,
   "metadata": {},
   "outputs": [
    {
     "data": {
      "image/png": "[encoded data removed]",
      "text/plain": [
       "<Figure size 1008x576 with 1 Axes>"
      ]
     },
     "metadata": {},
     "output_type": "display_data"
    }
   ],
   "source": [
    "# plot\n",
    "pyplot.plot(test)\n",
    "pyplot.plot(predictions, color='red')\n",
    "pyplot.show()"
   ]
  },
  {
   "cell_type": "code",
   "execution_count": 114,
   "metadata": {},
   "outputs": [
    {
     "data": {
      "text/html": [
       "<div>\n",
       "<style scoped>\n",
       "    .dataframe tbody tr th:only-of-type {\n",
       "        vertical-align: middle;\n",
       "    }\n",
       "\n",
       "    .dataframe tbody tr th {\n",
       "        vertical-align: top;\n",
       "    }\n",
       "\n",
       "    .dataframe thead th {\n",
       "        text-align: right;\n",
       "    }\n",
       "</style>\n",
       "<table border=\"1\" class=\"dataframe\">\n",
       "  <thead>\n",
       "    <tr style=\"text-align: right;\">\n",
       "      <th></th>\n",
       "      <th>price</th>\n",
       "    </tr>\n",
       "    <tr>\n",
       "      <th>date_time</th>\n",
       "      <th></th>\n",
       "    </tr>\n",
       "  </thead>\n",
       "  <tbody>\n",
       "    <tr>\n",
       "      <th>2017-07-15</th>\n",
       "      <td>125786.535714</td>\n",
       "    </tr>\n",
       "    <tr>\n",
       "      <th>2017-07-28</th>\n",
       "      <td>129965.032258</td>\n",
       "    </tr>\n",
       "    <tr>\n",
       "      <th>2017-07-29</th>\n",
       "      <td>129350.322581</td>\n",
       "    </tr>\n",
       "    <tr>\n",
       "      <th>2017-07-30</th>\n",
       "      <td>129576.041667</td>\n",
       "    </tr>\n",
       "    <tr>\n",
       "      <th>2017-07-31</th>\n",
       "      <td>131625.388489</td>\n",
       "    </tr>\n",
       "  </tbody>\n",
       "</table>\n",
       "</div>"
      ],
      "text/plain": [
       "                    price\n",
       "date_time                \n",
       "2017-07-15  125786.535714\n",
       "2017-07-28  129965.032258\n",
       "2017-07-29  129350.322581\n",
       "2017-07-30  129576.041667\n",
       "2017-07-31  131625.388489"
      ]
     },
     "execution_count": 114,
     "metadata": {},
     "output_type": "execute_result"
    }
   ],
   "source": [
    "sub_US_long_model.tail()"
   ]
  },
  {
   "cell_type": "code",
   "execution_count": 173,
   "metadata": {},
   "outputs": [],
   "source": [
    "# # start_index = pd.datetime(2017, 7,15 ).date()\n",
    "# # end_index = pd.datetime(2017,7,19).date()\n",
    "\n",
    "# start_index = pd.to_datetime(\"2017-07-15\").strftime('%Y-%m-%d')\n",
    "# end_index = pd.to_datetime(\"2017-07-20\").strftime('%Y-%m-%d')\n",
    "# end_index\n",
    "forecast = model_fit.forecast(steps=8)"
   ]
  },
  {
   "cell_type": "code",
   "execution_count": 174,
   "metadata": {},
   "outputs": [
    {
     "data": {
      "text/plain": [
       "[<matplotlib.lines.Line2D at 0x7fe0781e2510>]"
      ]
     },
     "execution_count": 174,
     "metadata": {},
     "output_type": "execute_result"
    },
    {
     "data": {
      "image/png": "[encoded data removed]",
      "text/plain": [
       "<Figure size 1008x576 with 1 Axes>"
      ]
     },
     "metadata": {},
     "output_type": "display_data"
    }
   ],
   "source": [
    "pyplot.plot(forecast[0])"
   ]
  },
  {
   "cell_type": "code",
   "execution_count": 162,
   "metadata": {},
   "outputs": [],
   "source": [
    "filename = 'token_predictor_model.pkl'\n",
    "pickle.dump(model_fit, open(filename, 'wb'))"
   ]
  },
  {
   "cell_type": "code",
   "execution_count": null,
   "metadata": {},
   "outputs": [],
   "source": []
  }
 ],
 "metadata": {
  "kernelspec": {
   "display_name": "Python 3",
   "language": "python",
   "name": "python3"
  },
  "language_info": {
   "codemirror_mode": {
    "name": "ipython",
    "version": 3
   },
   "file_extension": ".py",
   "mimetype": "text/x-python",
   "name": "python",
   "nbconvert_exporter": "python",
   "pygments_lexer": "ipython3",
   "version": "3.7.6"
  }
 },
 "nbformat": 4,
 "nbformat_minor": 2
}
